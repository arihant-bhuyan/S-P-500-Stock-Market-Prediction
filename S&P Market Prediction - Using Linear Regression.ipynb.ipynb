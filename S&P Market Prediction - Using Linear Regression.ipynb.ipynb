{
 "cells": [
  {
   "cell_type": "code",
   "execution_count": null,
   "id": "f3370b50-076f-44bf-b0f6-0528defb39d1",
   "metadata": {},
   "outputs": [],
   "source": [
    "# Stock market prediction: Helps you to determine the future value of the company stock and other financial instruments traded on an exchange\n",
    "# Linear Regression: is a supervvised learning algorithm to predict the outcome of a continous variable\n",
    "    # Y = mx + c\n",
    "    # Regression line: is the best fit line which has the least squared distance between the original data points and predicted values."
   ]
  },
  {
   "cell_type": "markdown",
   "id": "28ce06ab-9a71-497c-9134-325ca6128a13",
   "metadata": {},
   "source": [
    "### Stock market prediction: 5 YEAR S&P and NASDAQ 100 - Using Linear Regression"
   ]
  },
  {
   "cell_type": "code",
   "execution_count": null,
   "id": "013225ac-3703-45e4-a7fa-4d9fd59a84a1",
   "metadata": {},
   "outputs": [],
   "source": [
    "# Import the necessary libraries\n",
    "import pandas as pd\n",
    "import numpy as np\n",
    "import matplotlib.pyplot as plt\n",
    "%matplotlib inline\n",
    "import chart_studio.plotly as py\n",
    "import plotly.graph_objs as go"
   ]
  },
  {
   "cell_type": "code",
   "execution_count": null,
   "id": "bdf00e62-1c86-42da-b426-74aa73bbf68d",
   "metadata": {},
   "outputs": [],
   "source": [
    "# Loading the stock price dataset using pandas library \n",
    "snp = pd.read_csv('ES_5Years_8_11_2024.csv')\n",
    "# To view the top 5 rows of the dataset\n",
    "snp.head()"
   ]
  },
  {
   "cell_type": "code",
   "execution_count": null,
   "id": "108de402-ae2a-4fc5-94c3-3a11b7297e59",
   "metadata": {},
   "outputs": [],
   "source": [
    "# Using info() function to identify the column and its properties\n",
    "snp.info()"
   ]
  },
  {
   "cell_type": "code",
   "execution_count": null,
   "id": "52375832-cdbd-4300-8fc4-d302f91822be",
   "metadata": {},
   "outputs": [],
   "source": [
    "# Convert the 'time' column to a datetime format\n",
    "snp['Time'] = pd.to_datetime(snp['Time'])"
   ]
  },
  {
   "cell_type": "code",
   "execution_count": null,
   "id": "a0664fd7-d260-4e56-ad85-aa1b76d17c76",
   "metadata": {},
   "outputs": [],
   "source": [
    "# Remove the time part, keeping only the date\n",
    "snp['Time'] = snp['Time'].dt.date"
   ]
  },
  {
   "cell_type": "code",
   "execution_count": null,
   "id": "cedc0795-f08d-4593-928f-51d5eda7a0f0",
   "metadata": {},
   "outputs": [],
   "source": [
    "# Rename the 'Time' column to 'Date' (in-place)\n",
    "snp.rename(columns={'Time': 'Date'}, inplace=True)"
   ]
  },
  {
   "cell_type": "code",
   "execution_count": null,
   "id": "748ef71c-f3df-4572-9fc9-f4f57246ffc0",
   "metadata": {},
   "outputs": [],
   "source": [
    "# To view and review if the column has be renamed to Date\n",
    "snp.info()"
   ]
  },
  {
   "cell_type": "code",
   "execution_count": null,
   "id": "01131450-8e64-4d0b-9e00-42e40b526444",
   "metadata": {},
   "outputs": [],
   "source": [
    "# Convert the 'Date' column to a datetime format\n",
    "snp['Date'] = pd.to_datetime(snp['Date'])"
   ]
  },
  {
   "cell_type": "code",
   "execution_count": null,
   "id": "f27eb6d7-708f-4da9-9916-40c453c5ad13",
   "metadata": {},
   "outputs": [],
   "source": [
    "# To view and review if the column has be renamed to Date\n",
    "snp.head() # or use snp.info()\n",
    "snp.info()"
   ]
  },
  {
   "cell_type": "code",
   "execution_count": null,
   "id": "91376322-123b-4ddc-9895-6058252080c7",
   "metadata": {},
   "outputs": [],
   "source": [
    "print(f'DataFrame contains stock prices between {snp.Date.min()} {snp.Date.max()}')\n",
    "print(f'Total Days = {(snp.Date.max() - snp.Date.min()).days} days')"
   ]
  },
  {
   "cell_type": "code",
   "execution_count": null,
   "id": "d646c66d-eed1-4c44-952b-81eb1935e3a8",
   "metadata": {},
   "outputs": [],
   "source": [
    "# Summary Statistics using the describe() function\n",
    "snp.describe()"
   ]
  },
  {
   "cell_type": "code",
   "execution_count": null,
   "id": "81f2566f-9643-482f-8b5d-d2291f5eace7",
   "metadata": {},
   "outputs": [],
   "source": [
    "# Plot a box plot: To Check outliers\n",
    "snp[['Open', 'High', 'Low', 'Close']].plot(kind='box')"
   ]
  },
  {
   "cell_type": "code",
   "execution_count": null,
   "id": "fcedbe5e-8516-48e1-9048-b2e481e403ea",
   "metadata": {},
   "outputs": [],
   "source": [
    "# Setting the layout for our plot: Using go.Layout() function\n",
    "# he layout object is used to define the overall structure, appearance, and labels for your plot. It includes titles for both the plot and the axes.\n",
    "layout = go.Layout(\n",
    "    title = 'Stock Prices of S&P500 and NASDAQ100',\n",
    "    xaxis = dict(\n",
    "        title='Date',\n",
    "        titlefont=dict(\n",
    "            family='Courier New, monospace',\n",
    "            size=18,\n",
    "            color='#7f7f7f'\n",
    "        )\n",
    "    ),\n",
    "    yaxis=dict(\n",
    "        title='Price',\n",
    "        titlefont=dict(\n",
    "            family='Courier New, monospace',\n",
    "            size=18,\n",
    "            color='#7f7f7f'\n",
    "        ),\n",
    "        dtick=500\n",
    "    )\n",
    ")\n",
    "\n",
    "snp_data = [{'x':snp['Date'], 'y':snp['Close']}]\n",
    "plot = go.Figure(data=snp_data, layout=layout)\n",
    "plot"
   ]
  },
  {
   "cell_type": "code",
   "execution_count": null,
   "id": "35f16d54-25fc-41ec-b08a-940d252a3717",
   "metadata": {},
   "outputs": [],
   "source": [
    "# Building the regression model\n",
    "from sklearn.model_selection import train_test_split\n",
    "\n",
    "# For preprocessing\n",
    "from sklearn.preprocessing import MinMaxScaler\n",
    "from sklearn.preprocessing import StandardScaler\n",
    "\n",
    "# For model evaluation\n",
    "from sklearn.metrics import mean_squared_error as mse\n",
    "from sklearn.metrics import r2_score\n",
    "from sklearn.metrics import mean_absolute_error"
   ]
  },
  {
   "cell_type": "code",
   "execution_count": null,
   "id": "1cdd45f7-85bc-4b29-a045-d26014f64884",
   "metadata": {},
   "outputs": [],
   "source": [
    "# Split the data into train and test sets\n",
    "# Define X as the relevant features (excluding Date and Close) and convert it into numpy array using .values\n",
    "X = snp[['Open', 'High', 'Low', 'Volume']].values  #2-D array\n",
    "# Y is still the 'Close' price\n",
    "Y = snp['Close'].values\n",
    "\n",
    "# Split the data into training and testing sets\n",
    "X_train, X_test, Y_train, Y_test = train_test_split(X, Y, test_size=0.3, random_state=101)\n",
    "\n",
    "# Check the shapes of the resulting datasets\n",
    "print(X_train.shape, X_test.shape, Y_train.shape, Y_test.shape)"
   ]
  },
  {
   "cell_type": "code",
   "execution_count": null,
   "id": "d6e38cc7-1ddf-473c-a376-f75c45cda0b8",
   "metadata": {},
   "outputs": [],
   "source": [
    "# Feature Scaling\n",
    "scaler = StandardScaler().fit(X_train)"
   ]
  },
  {
   "cell_type": "code",
   "execution_count": null,
   "id": "6c3195e2-8e0f-4e90-a76b-db400d4f3ff1",
   "metadata": {},
   "outputs": [],
   "source": [
    "from sklearn.linear_model import LinearRegression"
   ]
  },
  {
   "cell_type": "code",
   "execution_count": null,
   "id": "cd672a66-481c-4e36-8ac9-547b92adab7a",
   "metadata": {},
   "outputs": [],
   "source": [
    "# Creating a Linear Model\n",
    "lm = LinearRegression()\n",
    "lm.fit(X_train, Y_train)"
   ]
  },
  {
   "cell_type": "code",
   "execution_count": null,
   "id": "293dfc8b-00e7-47d6-9ae7-d11c9677d702",
   "metadata": {},
   "outputs": [],
   "source": [
    "# Make predictions on the test set\n",
    "Y_test_pred = lm.predict(X_test)\n",
    "Y_test_pred"
   ]
  },
  {
   "cell_type": "code",
   "execution_count": null,
   "id": "c9253912-a298-4efa-a51f-09dce4afc63a",
   "metadata": {},
   "outputs": [],
   "source": [
    "# Make predictions on the training set\n",
    "Y_train_pred = lm.predict(X_train)"
   ]
  },
  {
   "cell_type": "code",
   "execution_count": null,
   "id": "ace349cf-3c9a-4e88-88b5-d3d8e132ed46",
   "metadata": {},
   "outputs": [],
   "source": [
    "# Scatter plot of actual vs predicted values\n",
    "plt.scatter(Y_train, Y_train_pred, alpha=0.5, label='Data Points')\n",
    "\n",
    "# Fit a regression line\n",
    "m, b = np.polyfit(Y_train, Y_train_pred, 1)  # Fit a linear regression line (y = mx + b)\n",
    "plt.plot(Y_train, m*Y_train + b, color='red', label='Regression Line')\n",
    "\n",
    "# Add labels and title\n",
    "plt.xlabel('Actual Prices (Train)')\n",
    "plt.ylabel('Predicted Prices (Train)')\n",
    "plt.title('Actual vs Predicted Stock Prices (Train Dataset)')\n",
    "plt.legend()\n",
    "plt.show()"
   ]
  },
  {
   "cell_type": "code",
   "execution_count": null,
   "id": "4dc88caa-2fca-4871-aa8b-6fbac34f7a95",
   "metadata": {},
   "outputs": [],
   "source": [
    "# Calculate scores for model evaluation\n",
    "\n",
    "# Make predictions on the test set\n",
    "Y_test_pred = lm.predict(X_test)\n",
    "\n",
    "# Mean Squared Error (MSE)\n",
    "mse_value = mse(Y_test, Y_test_pred)\n",
    "print(f'Mean Squared Error (MSE): {mse_value}')\n",
    "\n",
    "# Root Mean Squared Error (RMSE)\n",
    "rmse_value = np.sqrt(mse_value)\n",
    "print(f'Root Mean Squared Error (RMSE): {rmse_value}')\n",
    "\n",
    "# Mean Absolute Error (MAE)\n",
    "mae_value = mean_absolute_error(Y_test, Y_test_pred)\n",
    "print(f'Mean Absolute Error (MAE): {mae_value}')\n",
    "\n",
    "# R-squared (R²)\n",
    "r2_value = r2_score(Y_test, Y_test_pred)\n",
    "print(f'R-squared (R²): {r2_value}')"
   ]
  }
 ],
 "metadata": {
  "kernelspec": {
   "display_name": "Python 3 (ipykernel)",
   "language": "python",
   "name": "python3"
  },
  "language_info": {
   "codemirror_mode": {
    "name": "ipython",
    "version": 3
   },
   "file_extension": ".py",
   "mimetype": "text/x-python",
   "name": "python",
   "nbconvert_exporter": "python",
   "pygments_lexer": "ipython3",
   "version": "3.12.4"
  }
 },
 "nbformat": 4,
 "nbformat_minor": 5
}
