{
 "cells": [
  {
   "cell_type": "markdown",
   "id": "bc401a78-8b80-4326-ac20-b9ee658d1cf9",
   "metadata": {},
   "source": [
    "### Stock market prediction: 5 YEAR S&P - Using Long Short Term Memory"
   ]
  },
  {
   "cell_type": "code",
   "execution_count": null,
   "id": "aa5019a7-3ad3-4f33-9b2e-cb820c8a1f93",
   "metadata": {},
   "outputs": [],
   "source": [
    "# Import the necessary libraries\n",
    "import pandas as pd\n",
    "import numpy as np\n",
    "from sklearn.preprocessing import MinMaxScaler\n",
    "import matplotlib.pyplot as pltS\n",
    "from tensorflow.keras.models import Sequential\n",
    "from tensorflow.keras.layers import LSTM, Dense, Dropout\n",
    "from datetime import timedelta"
   ]
  },
  {
   "cell_type": "code",
   "execution_count": null,
   "id": "9c255b36-fef0-4990-855f-9bee6660f4ca",
   "metadata": {},
   "outputs": [],
   "source": [
    "# Load the dataset\n",
    "snp = pd.read_csv('ES_5Years_8_11_2024.csv')"
   ]
  },
  {
   "cell_type": "code",
   "execution_count": null,
   "id": "15a9232f-c47a-461f-80b6-9d437bffbc33",
   "metadata": {},
   "outputs": [],
   "source": [
    "# Extract the 'Close' prices and convert the 'Date' column to datetime\n",
    "close_prices = snp['Close'].values.reshape(-1, 1)\n",
    "dates = pd.to_datetime(snp['Time'])"
   ]
  },
  {
   "cell_type": "code",
   "execution_count": null,
   "id": "30c0f6e7-164f-4e17-9b5a-6fe0aad6788d",
   "metadata": {},
   "outputs": [],
   "source": [
    "# Split the data into training and testing sets (e.g., 80% train, 20% test)\n",
    "train_size = int(len(close_prices) * 0.7)\n",
    "train_data, test_data = close_prices[:train_size], close_prices[train_size:]"
   ]
  },
  {
   "cell_type": "code",
   "execution_count": null,
   "id": "752521d1-c226-49bf-bab2-e5f92374b50c",
   "metadata": {},
   "outputs": [],
   "source": [
    "# Initialize MinMaxScaler to scale the data between 0 and 1\n",
    "scaler = MinMaxScaler(feature_range=(0, 1))\n",
    "\n",
    "# Fit the scaler on the training data and scale the training data\n",
    "train_data_scaled = scaler.fit_transform(train_data)\n",
    "\n",
    "# Scale the test data using the same scaler (do not refit the scaler)\n",
    "test_data_scaled = scaler.transform(test_data)\n"
   ]
  },
  {
   "cell_type": "code",
   "execution_count": null,
   "id": "af27ee2b-6a67-45d7-a0a4-f067d5ef1d04",
   "metadata": {},
   "outputs": [],
   "source": [
    "# Create sequences for training data (time_step = 60)\n",
    "time_step = 60\n",
    "X_train, Y_train = [], []\n",
    "for i in range(time_step, len(train_data_scaled)):\n",
    "    X_train.append(train_data_scaled[i - time_step:i, 0])  # last 60 days\n",
    "    Y_train.append(train_data_scaled[i, 0])  # next day\n",
    "\n",
    "# Convert to numpy arrays\n",
    "X_train, Y_train = np.array(X_train), np.array(Y_train)\n",
    "\n",
    "# Reshape X_train to fit LSTM input format: [samples, timesteps, features]\n",
    "X_train = X_train.reshape(X_train.shape[0], X_train.shape[1], 1)"
   ]
  },
  {
   "cell_type": "code",
   "execution_count": null,
   "id": "a1e230ad-1dc7-477b-97ca-e59091815e16",
   "metadata": {},
   "outputs": [],
   "source": [
    "# Create the LSTM model\n",
    "model = Sequential()\n",
    "\n",
    "# First LSTM layer with dropout\n",
    "model.add(LSTM(units=50, return_sequences=True, input_shape=(X_train.shape[1], 1)))\n",
    "model.add(Dropout(0.2))  # 20% dropout\n",
    "\n",
    "# Second LSTM layer with dropout\n",
    "model.add(LSTM(units=50, return_sequences=False))\n",
    "model.add(Dropout(0.2))  # 20% dropout\n",
    "\n",
    "# Dense layer to output the prediction\n",
    "model.add(Dense(1))\n",
    "\n",
    "# Compile the model\n",
    "model.compile(optimizer='adam', loss='mean_squared_error')\n"
   ]
  },
  {
   "cell_type": "code",
   "execution_count": null,
   "id": "7b5b71da-aaf1-48ef-9cfe-eebcf3497e68",
   "metadata": {},
   "outputs": [],
   "source": [
    "# Train the model using the training data\n",
    "model.fit(X_train, Y_train, epochs=10, batch_size=64)"
   ]
  },
  {
   "cell_type": "code",
   "execution_count": null,
   "id": "b95a2682-a72e-453e-9165-b0fff5d935f1",
   "metadata": {},
   "outputs": [],
   "source": [
    "# Prepare test data for prediction\n",
    "X_test, Y_test = [], []\n",
    "for i in range(time_step, len(test_data_scaled)):\n",
    "    X_test.append(test_data_scaled[i - time_step:i, 0])  # last 60 days\n",
    "\n",
    "# Convert to numpy arrays and reshape for LSTM\n",
    "X_test = np.array(X_test)\n",
    "X_test = X_test.reshape(X_test.shape[0], X_test.shape[1], 1)\n",
    "\n",
    "# Predict on the test data\n",
    "test_predictions = model.predict(X_test)\n",
    "\n",
    "# Rescale the predictions back to original scale\n",
    "test_predictions = scaler.inverse_transform(test_predictions)"
   ]
  },
  {
   "cell_type": "code",
   "execution_count": null,
   "id": "f9e70948-1ce6-497d-9c98-c6844a1af5c5",
   "metadata": {},
   "outputs": [],
   "source": [
    "# Assuming you want to predict the next 10 days\n",
    "future_days = 10\n",
    "future_predictions = []\n",
    "last_60_days = test_data_scaled[-60:]  # Last 60 days from the test set\n",
    "\n",
    "for _ in range(future_days):\n",
    "    # Reshape the last 60 days to feed into the model\n",
    "    last_60_days = last_60_days.reshape(1, last_60_days.shape[0], 1)\n",
    "    predicted_price_scaled = model.predict(last_60_days)\n",
    "    future_predictions.append(predicted_price_scaled[0, 0])\n",
    "    \n",
    "    # Update the last_60_days with the predicted price for the next prediction\n",
    "    last_60_days = np.append(last_60_days[0], predicted_price_scaled)\n",
    "    last_60_days = last_60_days[-60:]  # Keep the window of 60 days\n",
    "\n",
    "# Rescale the future predictions\n",
    "future_predictions = scaler.inverse_transform(np.array(future_predictions).reshape(-1, 1))\n",
    "\n",
    "# Create a range of future dates for plotting\n",
    "future_dates = [dates.iloc[-1] + pd.Timedelta(days=i) for i in range(1, future_days + 1)]\n",
    "\n",
    "# Plot future predictions\n",
    "plt.figure(figsize=(10, 6))\n",
    "plt.plot(dates, close_prices, label='Actual Stock Price')\n",
    "plt.plot(future_dates, future_predictions, label='Future Predictions', color='green')\n",
    "plt.title('S&P Stock Price Prediction with Future Prices')\n",
    "plt.xlabel('Date')\n",
    "plt.ylabel('Stock Price')\n",
    "plt.legend()\n",
    "plt.show()\n"
   ]
  },
  {
   "cell_type": "code",
   "execution_count": null,
   "id": "711735bc-fe9a-47a5-8bbf-826ff61aaacf",
   "metadata": {},
   "outputs": [],
   "source": [
    "# Calculate Error Metrics\n",
    "\n",
    "from sklearn.metrics import mean_squared_error, mean_absolute_error, r2_score\n",
    "import numpy as np\n",
    "\n",
    "# Assuming test_predictions_flat is your predicted prices, and close_prices[train_size:] is the actual prices\n",
    "\n",
    "# Calculate the metrics\n",
    "mse = mean_squared_error(close_prices[train_size:train_size + len(test_predictions_flat)], test_predictions_flat)\n",
    "rmse = np.sqrt(mse)\n",
    "mae = mean_absolute_error(close_prices[train_size:train_size + len(test_predictions_flat)], test_predictions_flat)\n",
    "r2 = r2_score(close_prices[train_size:train_size + len(test_predictions_flat)], test_predictions_flat)\n",
    "\n",
    "print(f\"Mean Squared Error: {mse}\")\n",
    "print(f\"Root Mean Squared Error: {rmse}\")\n",
    "print(f\"Mean Absolute Error: {mae}\")\n",
    "print(f\"R-squared: {r2}\")"
   ]
  },
  {
   "cell_type": "code",
   "execution_count": null,
   "id": "83ec316e-f4bb-45b2-9c9e-608705a01628",
   "metadata": {},
   "outputs": [],
   "source": [
    "# Trim the actual training data (close_prices[:train_size]) to match the length of train_predictions\n",
    "\n",
    "# Get the difference in lengths\n",
    "train_size_adjusted = len(train_predictions)  # The length of train_predictions\n",
    "\n",
    "# Calculate training metrics with adjusted size\n",
    "mse_train = mean_squared_error(close_prices[:train_size_adjusted], train_predictions)\n",
    "rmse_train = np.sqrt(mse_train)\n",
    "r2_train = r2_score(close_prices[:train_size_adjusted], train_predictions)\n",
    "\n",
    "print(f\"Training RMSE: {rmse_train}\")\n",
    "print(f\"Training R-squared: {r2_train}\")"
   ]
  },
  {
   "cell_type": "code",
   "execution_count": null,
   "id": "886743ad-45c3-4618-9e70-4d7745b65164",
   "metadata": {},
   "outputs": [],
   "source": [
    "# Since its overfitting, makes sense to increase the dropout by 30%\n",
    "model.add(Dropout(0.3))  # Increase dropout"
   ]
  },
  {
   "cell_type": "code",
   "execution_count": null,
   "id": "d636cc3b-9402-4998-8dd5-d795ae391d86",
   "metadata": {},
   "outputs": [],
   "source": [
    "future_days = 100 # Predict next 100 days\n",
    "future_predictions = []\n",
    "last_100_days = test_data_scaled[-100:]\n",
    "\n",
    "for _ in range(future_days):\n",
    "    last_100_days = last_100_days.reshape(1, last_100_days.shape[0], 1)\n",
    "    predicted_price_scaled = model.predict(last_100_days)\n",
    "    future_predictions.append(predicted_price_scaled[0, 0])\n",
    "    \n",
    "    # Update the input with the predicted price for the next prediction\n",
    "    last_100_days = np.append(last_100_days[0], predicted_price_scaled)\n",
    "    last_100_days = last_100_days[-100:]\n",
    "\n",
    "# Rescale the future predictions back to the original stock price scale\n",
    "future_predictions = scaler.inverse_transform(np.array(future_predictions).reshape(-1, 1))\n",
    "\n",
    "# Generate dates for the future predictions\n",
    "future_dates = [dates.iloc[-1] + pd.Timedelta(days=i) for i in range(1, future_days + 1)]\n",
    "\n",
    "# Plot future predictions\n",
    "plt.figure(figsize=(10, 6))\n",
    "plt.plot(dates, close_prices, label='Actual Stock Price')\n",
    "plt.plot(future_dates, future_predictions, label='Future Predictions', color='green')\n",
    "plt.title('S&P Stock Price Prediction with Future Prices')\n",
    "plt.xlabel('Date')\n",
    "plt.ylabel('Stock Price')\n",
    "plt.legend()\n",
    "plt.show()\n"
   ]
  }
 ],
 "metadata": {
  "kernelspec": {
   "display_name": "Python 3 (ipykernel)",
   "language": "python",
   "name": "python3"
  },
  "language_info": {
   "codemirror_mode": {
    "name": "ipython",
    "version": 3
   },
   "file_extension": ".py",
   "mimetype": "text/x-python",
   "name": "python",
   "nbconvert_exporter": "python",
   "pygments_lexer": "ipython3",
   "version": "3.12.4"
  }
 },
 "nbformat": 4,
 "nbformat_minor": 5
}
